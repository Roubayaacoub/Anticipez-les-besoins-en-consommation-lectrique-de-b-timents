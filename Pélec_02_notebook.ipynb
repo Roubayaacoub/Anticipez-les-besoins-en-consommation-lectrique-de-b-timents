{
 "cells": [
  {
   "cell_type": "markdown",
   "metadata": {},
   "source": [
    "<font color='black'><font size=\"4\">Notebook des différents tests de modèles -- Le plan de ce notebook (Projet 4) est le suivant:</font></font>\n",
    "<font color='black'><font size=\"3\">\n",
    "* Lire les fichiers csv et les présenter sous forme des DataFrames\n",
    "* Prédiction de l'emission du CO2\n",
    "    * Emission du CO2 en tenant compte du Energy Star Score\n",
    "    * Emission du CO2 sans tenant compte du Energy Star Score\n",
    "    * Résumé en chiffres\n",
    "* Consomation total d'Energie\n",
    "    * Consomation total d'Energie en tenant compte du Energy Star Score\n",
    "    * Consomation total d'Energie sans tenant compte du Energy Star Score\n",
    "    * Résumé en chiffres\n",
    "* Comparaison\n",
    "* Choix du modèle et l'importance du score Energy Star\n",
    "* Consclusion & perspectives\n",
    "</font></font>    "
   ]
  },
  {
   "cell_type": "code",
   "execution_count": 27,
   "metadata": {},
   "outputs": [],
   "source": [
    "import numpy as np\n",
    "import pandas as pd\n",
    "import time\n",
    "import matplotlib.pyplot as pl\n",
    "pl.rcParams.update({'font.size': 14})\n",
    "from sklearn.model_selection import train_test_split\n",
    "from sklearn.model_selection import cross_val_score, KFold\n",
    "from sklearn import metrics"
   ]
  },
  {
   "cell_type": "markdown",
   "metadata": {},
   "source": [
    "## A) Lire les fichiers csv et le présenter sous forme du DataFrame"
   ]
  },
  {
   "cell_type": "code",
   "execution_count": 28,
   "metadata": {},
   "outputs": [],
   "source": [
    "df_encoded_with_ESS = pd.read_csv(\"df_encoded_with_ESS.csv\",sep=\",\")\n",
    "df_encoded_without_ESS = pd.read_csv(\"df_encoded_without_ESS.csv\",sep=\",\")"
   ]
  },
  {
   "cell_type": "markdown",
   "metadata": {},
   "source": [
    "## B) Emission CO2"
   ]
  },
  {
   "cell_type": "markdown",
   "metadata": {},
   "source": [
    "<font color='darkblue'><font size=\"3\">\n",
    "Dans cette section nous allons comparer plusieurs algorithmes de régression pour prédire l'émission de gaz CO2.\n",
    "    \n",
    "Nous utiliserons, comme baseline, **dummy regressor**, ensuite nous utiliserons **linear regression**, **RandomForest**, **SVR** et **XGBoost**.\n",
    "    \n",
    "Chaque algorithme (sauf le baseline) est utilisé dans une pipeline avec `StandardScaler()`.\\\n",
    "Et chacune de ces pipelines (sauf linear regression) est utilisé avec `GridSearchCV` pour paramétrer les hyperparamètres avec cross validation.\n",
    "    \n",
    "Ce processus est réalisé pour les deux dataframes (avec et sans Energy Star Score noté ESS).\n",
    "    \n",
    "Lors de chaque algorithmes, nous calculons le coefficient de determination--R2, Root Mean Squared Error--RMSE et le temps de calcul de cet algorithme, puis nous l'affichons avec les meilleurs hyperparamètres choisis.   \n",
    "    \n",
    "Ces algorithmes sont re-utilisé dans la prochaine section -- Consomation total d'Energie, avec des dataframes différentes.\n",
    "</font></font>"
   ]
  },
  {
   "cell_type": "code",
   "execution_count": 29,
   "metadata": {},
   "outputs": [],
   "source": [
    "from sklearn.dummy import DummyRegressor\n",
    "DR = DummyRegressor(strategy=\"mean\")\n",
    "\n",
    "from sklearn.preprocessing import StandardScaler\n",
    "scaler = StandardScaler()\n",
    "from sklearn.linear_model import LinearRegression\n",
    "linreg = LinearRegression()\n",
    "from sklearn.ensemble import RandomForestRegressor\n",
    "rf = RandomForestRegressor(criterion='mse')\n",
    "from sklearn.svm import SVR\n",
    "svr = SVR(kernel = 'rbf')\n",
    "import xgboost as xgb\n",
    "xgbr = xgb.XGBRegressor(verbosity=0, max_depth = 6) "
   ]
  },
  {
   "cell_type": "code",
   "execution_count": 30,
   "metadata": {},
   "outputs": [],
   "source": [
    "from sklearn.pipeline import Pipeline\n",
    "from sklearn.pipeline import make_pipeline\n",
    "pipe_SL = make_pipeline(scaler, linreg)\n",
    "\n",
    "pipe_RF = Pipeline([('scaler', scaler), ('rf', rf)])\n",
    "pipe_SVR = Pipeline([('scaler',scaler), ('svr',svr)])\n",
    "pipe_XGB = Pipeline([('scaler',scaler), ('xgbr',xgbr)])"
   ]
  },
  {
   "cell_type": "code",
   "execution_count": 31,
   "metadata": {},
   "outputs": [],
   "source": [
    "from sklearn.model_selection import GridSearchCV\n",
    "\n",
    "\n",
    "## creation du gridsearch pour randomforest\n",
    "param_grid_RF = {'rf__max_depth': [100,200],'rf__max_features': ['auto', 'sqrt'],'rf__n_estimators': [150, 1000]}\n",
    "Grid_RF = GridSearchCV(estimator = pipe_RF, param_grid = param_grid_RF, cv=5, return_train_score=True)\n",
    "\n",
    "## creation du gridsearch pour SVR \n",
    "param_grid_SVR = {'svr__C': [1, 100, 1000],'svr__epsilon': [0.0001, 0.005],'svr__gamma': [0.005, 0.1]}\n",
    "Grid_SVR = GridSearchCV(estimator = pipe_SVR, param_grid=param_grid_SVR, cv=5,return_train_score=True)\n",
    "\n",
    "## creation du gridsearch pour XGBoost\n",
    "param_grid_XGB = {'xgbr__n_estimators': [150, 1000],'xgbr__learning_rate': [0.03, 0.07, 0.5], 'xgbr__max_depth': [100,200]}\n",
    "Grid_XGB = GridSearchCV(estimator = pipe_XGB, param_grid=param_grid_XGB, cv=5,return_train_score=True)"
   ]
  },
  {
   "cell_type": "markdown",
   "metadata": {},
   "source": [
    "### B-1) Emission CO2 en tenant compte Energy Star Score"
   ]
  },
  {
   "cell_type": "code",
   "execution_count": 32,
   "metadata": {},
   "outputs": [],
   "source": [
    "## X_train y_train pour le dataframe avec EnergyStar Score\n",
    "X_with_ESS =  df_encoded_with_ESS.drop(columns=['TotalGHGEmissions','SiteEnergyUse(kBtu)'])\n",
    "y_with_ESS = df_encoded_with_ESS['TotalGHGEmissions']\n",
    "\n",
    "## diviser X en X_train et X_test, et y en y_train et y_test\n",
    "X_train_ESS, X_test_ESS , y_train_ESS, y_test_ESS = train_test_split(X_with_ESS, y_with_ESS, test_size=0.3, random_state=42)\n"
   ]
  },
  {
   "cell_type": "code",
   "execution_count": 33,
   "metadata": {},
   "outputs": [
    {
     "name": "stdout",
     "output_type": "stream",
     "text": [
      "RMSE = 1.389 et R2 = -0.347%\n"
     ]
    }
   ],
   "source": [
    "## dummy regressor\n",
    "start_time = time.time()\n",
    "DR.fit(X_train_ESS, y_train_ESS)\n",
    "y_pred_ESS = DR.predict(X_test_ESS)\n",
    "RMSE = np.sqrt(metrics.mean_squared_error(y_test_ESS, y_pred_ESS))\n",
    "R2 = metrics.r2_score(y_test_ESS, y_pred_ESS)\n",
    "\n",
    "print(\"RMSE = {} et R2 = {}%\".format(np.round(RMSE,3),np.round(R2*100,3))) "
   ]
  },
  {
   "cell_type": "code",
   "execution_count": 34,
   "metadata": {},
   "outputs": [
    {
     "name": "stdout",
     "output_type": "stream",
     "text": [
      "Le score du cross validation: 0.1419403799168886\n",
      "RMSE = 0.969 et R2 = 51.112%\n",
      "\n",
      "Time = 0.1042 seconds \n"
     ]
    }
   ],
   "source": [
    "## Linear regression\n",
    "start_time = time.time()\n",
    "\n",
    "print(\"Le score du cross validation: {}\".format(cross_val_score(pipe_SL, X_train_ESS, y_train_ESS, cv=5).mean()))\n",
    "pipe_SL.fit(X_train_ESS, y_train_ESS)\n",
    "y_pred_ESS = pipe_SL.predict(X_test_ESS)\n",
    "RMSE = np.sqrt(metrics.mean_squared_error(y_test_ESS, y_pred_ESS))\n",
    "R2 = metrics.r2_score(y_test_ESS, y_pred_ESS)\n",
    "\n",
    "print(\"RMSE = {} et R2 = {}%\".format(np.round(RMSE,3),np.round(R2*100,3))) \n",
    "\n",
    "print(\"\\nTime = {} seconds \".format(np.round(time.time() - start_time,4))) \n",
    "CO2_L = [RMSE, 100*R2,np.round(time.time() - start_time,4)] ## liste[RMSE, R2%, temps]"
   ]
  },
  {
   "cell_type": "code",
   "execution_count": 35,
   "metadata": {},
   "outputs": [
    {
     "name": "stdout",
     "output_type": "stream",
     "text": [
      "Best Parameters: \n",
      "{'rf__max_depth': 200, 'rf__max_features': 'auto', 'rf__n_estimators': 1000}\n",
      "\n",
      "Best Test Score: \n",
      "0.9419760721531091\n",
      "\n",
      "RMSE = 0.266 et R2 = 96.313%\n",
      "\n",
      "Time = 4.926361666666667 minutes \n"
     ]
    }
   ],
   "source": [
    "## RandomForest\n",
    "start_time = time.time()\n",
    "\n",
    "Grid_RF.fit(X_train_ESS,y_train_ESS)\n",
    "print(\"Best Parameters: \\n{}\\n\".format(Grid_RF.best_params_))\n",
    "print(\"Best Test Score: \\n{}\\n\".format(Grid_RF.best_score_))\n",
    "y_pred_ESS = Grid_RF.predict(X_test_ESS)\n",
    "RMSE = np.sqrt(metrics.mean_squared_error(y_test_ESS, y_pred_ESS))\n",
    "R2 = metrics.r2_score(y_test_ESS, y_pred_ESS)\n",
    "\n",
    "print(\"RMSE = {} et R2 = {}%\".format(np.round(RMSE,3),np.round(R2*100,3))) \n",
    "\n",
    "print(\"\\nTime = {} minutes \".format(np.round(time.time() - start_time,4)/60.)) \n",
    "CO2_RF = [RMSE, 100*R2,np.round(time.time() - start_time,4)/60.] ## liste[RMSE, R2%, temps]"
   ]
  },
  {
   "cell_type": "code",
   "execution_count": 36,
   "metadata": {},
   "outputs": [
    {
     "name": "stdout",
     "output_type": "stream",
     "text": [
      "Best Parameters: \n",
      "{'svr__C': 100, 'svr__epsilon': 0.005, 'svr__gamma': 0.1}\n",
      "\n",
      "Best Test Score: \n",
      "0.7843405674588713\n",
      "\n",
      "RMSE = 0.541 et R2 = 84.763%\n",
      "\n",
      "Time = 2.832898333333333 minutes \n"
     ]
    }
   ],
   "source": [
    "## SVR\n",
    "start_time = time.time()\n",
    "\n",
    "Grid_SVR.fit(X_train_ESS,y_train_ESS)\n",
    "print(\"Best Parameters: \\n{}\\n\".format(Grid_SVR.best_params_))\n",
    "print(\"Best Test Score: \\n{}\\n\".format(Grid_SVR.best_score_))\n",
    "y_pred_ESS = Grid_SVR.predict(X_test_ESS)\n",
    "RMSE = np.sqrt(metrics.mean_squared_error(y_test_ESS, y_pred_ESS))\n",
    "R2 = metrics.r2_score(y_test_ESS, y_pred_ESS)\n",
    "\n",
    "print(\"RMSE = {} et R2 = {}%\".format(np.round(RMSE,3),np.round(R2*100,3))) \n",
    "\n",
    "print(\"\\nTime = {} minutes \".format(np.round(time.time() - start_time,4)/60.)) \n",
    "CO2_SVR = [RMSE, 100*R2, np.round(time.time() - start_time,4)/60.] ## liste[RMSE, R2%, temps]"
   ]
  },
  {
   "cell_type": "code",
   "execution_count": 37,
   "metadata": {},
   "outputs": [
    {
     "name": "stdout",
     "output_type": "stream",
     "text": [
      "Best Parameters: \n",
      "{'xgbr__learning_rate': 0.07, 'xgbr__max_depth': 100, 'xgbr__n_estimators': 1000}\n",
      "\n",
      "Best Test Score: \n",
      "0.9486170740806849\n",
      "\n",
      "RMSE = 0.252 et R2 = 96.703%\n",
      "\n",
      "Time = 1.3974183333333334 minutes \n"
     ]
    },
    {
     "name": "stderr",
     "output_type": "stream",
     "text": [
      "C:\\Users\\Rouba\\anaconda3\\lib\\site-packages\\xgboost\\data.py:112: UserWarning: Use subset (sliced data) of np.ndarray is not recommended because it will generate extra copies and increase memory consumption\n",
      "  warnings.warn(\n"
     ]
    }
   ],
   "source": [
    "## XGBoost\n",
    "start_time = time.time()\n",
    "\n",
    "X_train_ESS = np.ascontiguousarray(X_train_ESS)\n",
    "y_train_ESS = np.ascontiguousarray(y_train_ESS)\n",
    "\n",
    "Grid_XGB.fit(X_train_ESS,y_train_ESS)\n",
    "print(\"Best Parameters: \\n{}\\n\".format(Grid_XGB.best_params_))\n",
    "print(\"Best Test Score: \\n{}\\n\".format(Grid_XGB.best_score_))\n",
    "y_pred_ESS = Grid_XGB.predict(X_test_ESS)\n",
    "RMSE = np.sqrt(metrics.mean_squared_error(y_test_ESS, y_pred_ESS))\n",
    "R2 = metrics.r2_score(y_test_ESS, y_pred_ESS)\n",
    "\n",
    "print(\"RMSE = {} et R2 = {}%\".format(np.round(RMSE,3),np.round(R2*100,3))) \n",
    "\n",
    "print(\"\\nTime = {} minutes \".format(np.round(time.time() - start_time,4)/60.)) \n",
    "CO2_XGB = [RMSE, 100*R2, np.round(time.time() - start_time,4)/60.] ## liste[RMSE, R2%, temps]"
   ]
  },
  {
   "cell_type": "code",
   "execution_count": 38,
   "metadata": {},
   "outputs": [
    {
     "name": "stdout",
     "output_type": "stream",
     "text": [
      "reg:squarederror\n"
     ]
    }
   ],
   "source": [
    "print(xgbr.objective)"
   ]
  },
  {
   "cell_type": "markdown",
   "metadata": {},
   "source": [
    "### B-2) Emission CO2 sans tenant compte Energy Star Score"
   ]
  },
  {
   "cell_type": "code",
   "execution_count": 39,
   "metadata": {},
   "outputs": [],
   "source": [
    "## X_train y_train pour le dataframe sans EnergyStar Score\n",
    "X =  df_encoded_without_ESS.drop(columns=['TotalGHGEmissions','SiteEnergyUse(kBtu)'])\n",
    "y = df_encoded_without_ESS['TotalGHGEmissions']\n",
    "\n",
    "## diviser X en X_train et X_test, et y en y_train et y_test\n",
    "X_train, X_test , y_train, y_test = train_test_split(X, y, test_size=0.3, random_state=42)"
   ]
  },
  {
   "cell_type": "code",
   "execution_count": 40,
   "metadata": {},
   "outputs": [
    {
     "name": "stdout",
     "output_type": "stream",
     "text": [
      "RMSE = 1.389 et R2 = -0.347%\n"
     ]
    }
   ],
   "source": [
    "## dummy regressor\n",
    "start_time = time.time()\n",
    "DR.fit(X_train, y_train)\n",
    "y_pred = DR.predict(X_test)\n",
    "RMSE = np.sqrt(metrics.mean_squared_error(y_test, y_pred))\n",
    "R2 = metrics.r2_score(y_test, y_pred)\n",
    "\n",
    "print(\"RMSE = {} et R2 = {}%\".format(np.round(RMSE,3),np.round(R2*100,3))) "
   ]
  },
  {
   "cell_type": "code",
   "execution_count": 41,
   "metadata": {},
   "outputs": [
    {
     "name": "stdout",
     "output_type": "stream",
     "text": [
      "Le score du cross validation: 0.3977955584196722\n",
      "RMSE = 0.98 et R2 = 50.046%\n",
      "\n",
      "Time = 0.1369 seconds \n"
     ]
    }
   ],
   "source": [
    "start_time = time.time()\n",
    "\n",
    "print(\"Le score du cross validation: {}\".format(cross_val_score(pipe_SL, X_train, y_train, cv=10).mean()))\n",
    "pipe_SL.fit(X_train, y_train)\n",
    "y_pred = pipe_SL.predict(X_test)\n",
    "RMSE = np.sqrt(metrics.mean_squared_error(y_test, y_pred))\n",
    "R2 = metrics.r2_score(y_test, y_pred)\n",
    "\n",
    "print(\"RMSE = {} et R2 = {}%\".format(np.round(RMSE,3),np.round(R2*100,3))) \n",
    "\n",
    "print(\"\\nTime = {} seconds \".format(np.round(time.time() - start_time,4))) \n",
    "CO2_L_withoutESS = [RMSE, 100*R2,np.round(time.time() - start_time,4)] ## liste[RMSE, R2%, temps]"
   ]
  },
  {
   "cell_type": "code",
   "execution_count": 42,
   "metadata": {},
   "outputs": [
    {
     "name": "stdout",
     "output_type": "stream",
     "text": [
      "Best Parameters: \n",
      "{'rf__max_depth': 100, 'rf__max_features': 'auto', 'rf__n_estimators': 1000}\n",
      "\n",
      "RMSE = 0.263 et R2 = 96.393%\n",
      "\n",
      "Time = 1.8752 minutes \n"
     ]
    }
   ],
   "source": [
    "## RandomForest\n",
    "start_time = time.time()\n",
    "\n",
    "Grid_RF.fit(X_train,y_train)\n",
    "print(\"Best Parameters: \\n{}\\n\".format(Grid_RF.best_params_))\n",
    "y_pred = Grid_RF.predict(X_test)\n",
    "RMSE = np.sqrt(metrics.mean_squared_error(y_test, y_pred))\n",
    "R2 = metrics.r2_score(y_test, y_pred)\n",
    "\n",
    "print(\"RMSE = {} et R2 = {}%\".format(np.round(RMSE,3),np.round(R2*100,3))) \n",
    "\n",
    "print(\"\\nTime = {} minutes \".format(np.round(time.time() - start_time,4)/60.)) \n",
    "CO2_RF_withoutESS = [RMSE, 100*R2, np.round(time.time() - start_time,4)/60.] ## liste[RMSE, R2%, temps]"
   ]
  },
  {
   "cell_type": "code",
   "execution_count": 43,
   "metadata": {},
   "outputs": [
    {
     "name": "stdout",
     "output_type": "stream",
     "text": [
      "Best Parameters: \n",
      "{'svr__C': 100, 'svr__epsilon': 0.005, 'svr__gamma': 0.1}\n",
      "\n",
      "RMSE = 0.564 et R2 = 83.425%\n",
      "\n",
      "Time = 1.144725 minutes \n"
     ]
    }
   ],
   "source": [
    "## SVR\n",
    "start_time = time.time()\n",
    "\n",
    "Grid_SVR.fit(X_train,y_train)\n",
    "print(\"Best Parameters: \\n{}\\n\".format(Grid_SVR.best_params_))\n",
    "y_pred = Grid_SVR.predict(X_test)\n",
    "RMSE = np.sqrt(metrics.mean_squared_error(y_test, y_pred))\n",
    "R2 = metrics.r2_score(y_test, y_pred)\n",
    "\n",
    "print(\"RMSE = {} et R2 = {}%\".format(np.round(RMSE,3),np.round(R2*100,3))) \n",
    "\n",
    "print(\"\\nTime = {} minutes \".format(np.round(time.time() - start_time,4)/60.)) \n",
    "CO2_SVR_withoutESS = [RMSE, 100*R2, np.round(time.time() - start_time,4)/60.] ## liste[RMSE, R2%, temps]"
   ]
  },
  {
   "cell_type": "code",
   "execution_count": 44,
   "metadata": {},
   "outputs": [
    {
     "name": "stdout",
     "output_type": "stream",
     "text": [
      "Best Parameters: \n",
      "{'xgbr__learning_rate': 0.07, 'xgbr__max_depth': 100, 'xgbr__n_estimators': 1000}\n",
      "\n",
      "RMSE = 0.251 et R2 = 96.714%\n",
      "\n",
      "Time = 1.417805 minutes \n"
     ]
    },
    {
     "name": "stderr",
     "output_type": "stream",
     "text": [
      "C:\\Users\\Rouba\\anaconda3\\lib\\site-packages\\xgboost\\data.py:112: UserWarning: Use subset (sliced data) of np.ndarray is not recommended because it will generate extra copies and increase memory consumption\n",
      "  warnings.warn(\n"
     ]
    }
   ],
   "source": [
    "## XGBoost\n",
    "start_time = time.time()\n",
    "X_train = np.ascontiguousarray(X_train)\n",
    "y_train = np.ascontiguousarray(y_train)\n",
    "\n",
    "Grid_XGB.fit(X_train,y_train)\n",
    "print(\"Best Parameters: \\n{}\\n\".format(Grid_XGB.best_params_))\n",
    "y_pred = Grid_XGB.predict(X_test)\n",
    "RMSE = np.sqrt(metrics.mean_squared_error(y_test, y_pred))\n",
    "R2 = metrics.r2_score(y_test, y_pred)\n",
    "\n",
    "print(\"RMSE = {} et R2 = {}%\".format(np.round(RMSE,3),np.round(R2*100,3))) \n",
    "\n",
    "print(\"\\nTime = {} minutes \".format(np.round(time.time() - start_time,4)/60.)) \n",
    "CO2_XGB_withoutESS = [RMSE, 100*R2, np.round(time.time() - start_time,4)/60.] ## liste[RMSE, R2%, temps]"
   ]
  },
  {
   "cell_type": "code",
   "execution_count": 45,
   "metadata": {},
   "outputs": [
    {
     "name": "stdout",
     "output_type": "stream",
     "text": [
      "reg:squarederror\n"
     ]
    }
   ],
   "source": [
    "print(xgbr.objective)"
   ]
  },
  {
   "cell_type": "markdown",
   "metadata": {},
   "source": [
    "### B-3) Résumé en chiffres d'émission CO2"
   ]
  },
  {
   "cell_type": "code",
   "execution_count": 46,
   "metadata": {},
   "outputs": [],
   "source": [
    "EmissionCO2_with_ESS = pd.DataFrame(data=[CO2_L, CO2_RF, CO2_SVR, CO2_XGB],\n",
    "             columns=['RMSE', 'R2(%)', 'Duration(s)'],\n",
    "             index=['Linear regression', 'RandomForest', 'SVR', 'XGB'])\n",
    "\n",
    "EmissionCO2_without_ESS = pd.DataFrame(data=[CO2_L_withoutESS, CO2_RF_withoutESS, CO2_SVR_withoutESS, CO2_XGB_withoutESS],\n",
    "             columns=['RMSE', 'R2(%)', 'Duration(s)'],\n",
    "             index=['Linear regresion', 'RandomForest', 'SVR', 'XGB'])"
   ]
  },
  {
   "cell_type": "code",
   "execution_count": 47,
   "metadata": {},
   "outputs": [
    {
     "data": {
      "text/html": [
       "<div>\n",
       "<style scoped>\n",
       "    .dataframe tbody tr th:only-of-type {\n",
       "        vertical-align: middle;\n",
       "    }\n",
       "\n",
       "    .dataframe tbody tr th {\n",
       "        vertical-align: top;\n",
       "    }\n",
       "\n",
       "    .dataframe thead th {\n",
       "        text-align: right;\n",
       "    }\n",
       "</style>\n",
       "<table border=\"1\" class=\"dataframe\">\n",
       "  <thead>\n",
       "    <tr style=\"text-align: right;\">\n",
       "      <th></th>\n",
       "      <th>RMSE</th>\n",
       "      <th>R2(%)</th>\n",
       "      <th>Duration(s)</th>\n",
       "    </tr>\n",
       "  </thead>\n",
       "  <tbody>\n",
       "    <tr>\n",
       "      <th>Linear regression</th>\n",
       "      <td>0.969350</td>\n",
       "      <td>51.111873</td>\n",
       "      <td>0.104200</td>\n",
       "    </tr>\n",
       "    <tr>\n",
       "      <th>RandomForest</th>\n",
       "      <td>0.266196</td>\n",
       "      <td>96.313248</td>\n",
       "      <td>4.926362</td>\n",
       "    </tr>\n",
       "    <tr>\n",
       "      <th>SVR</th>\n",
       "      <td>0.541157</td>\n",
       "      <td>84.763380</td>\n",
       "      <td>2.832898</td>\n",
       "    </tr>\n",
       "    <tr>\n",
       "      <th>XGB</th>\n",
       "      <td>0.251717</td>\n",
       "      <td>96.703385</td>\n",
       "      <td>1.397418</td>\n",
       "    </tr>\n",
       "  </tbody>\n",
       "</table>\n",
       "</div>"
      ],
      "text/plain": [
       "                       RMSE      R2(%)  Duration(s)\n",
       "Linear regression  0.969350  51.111873     0.104200\n",
       "RandomForest       0.266196  96.313248     4.926362\n",
       "SVR                0.541157  84.763380     2.832898\n",
       "XGB                0.251717  96.703385     1.397418"
      ]
     },
     "execution_count": 47,
     "metadata": {},
     "output_type": "execute_result"
    }
   ],
   "source": [
    "EmissionCO2_with_ESS"
   ]
  },
  {
   "cell_type": "code",
   "execution_count": 48,
   "metadata": {},
   "outputs": [
    {
     "data": {
      "text/html": [
       "<div>\n",
       "<style scoped>\n",
       "    .dataframe tbody tr th:only-of-type {\n",
       "        vertical-align: middle;\n",
       "    }\n",
       "\n",
       "    .dataframe tbody tr th {\n",
       "        vertical-align: top;\n",
       "    }\n",
       "\n",
       "    .dataframe thead th {\n",
       "        text-align: right;\n",
       "    }\n",
       "</style>\n",
       "<table border=\"1\" class=\"dataframe\">\n",
       "  <thead>\n",
       "    <tr style=\"text-align: right;\">\n",
       "      <th></th>\n",
       "      <th>RMSE</th>\n",
       "      <th>R2(%)</th>\n",
       "      <th>Duration(s)</th>\n",
       "    </tr>\n",
       "  </thead>\n",
       "  <tbody>\n",
       "    <tr>\n",
       "      <th>Linear regresion</th>\n",
       "      <td>0.979858</td>\n",
       "      <td>50.046248</td>\n",
       "      <td>0.136900</td>\n",
       "    </tr>\n",
       "    <tr>\n",
       "      <th>RandomForest</th>\n",
       "      <td>0.263301</td>\n",
       "      <td>96.392979</td>\n",
       "      <td>1.875200</td>\n",
       "    </tr>\n",
       "    <tr>\n",
       "      <th>SVR</th>\n",
       "      <td>0.564418</td>\n",
       "      <td>83.425369</td>\n",
       "      <td>1.144725</td>\n",
       "    </tr>\n",
       "    <tr>\n",
       "      <th>XGB</th>\n",
       "      <td>0.251312</td>\n",
       "      <td>96.713989</td>\n",
       "      <td>1.417805</td>\n",
       "    </tr>\n",
       "  </tbody>\n",
       "</table>\n",
       "</div>"
      ],
      "text/plain": [
       "                      RMSE      R2(%)  Duration(s)\n",
       "Linear regresion  0.979858  50.046248     0.136900\n",
       "RandomForest      0.263301  96.392979     1.875200\n",
       "SVR               0.564418  83.425369     1.144725\n",
       "XGB               0.251312  96.713989     1.417805"
      ]
     },
     "execution_count": 48,
     "metadata": {},
     "output_type": "execute_result"
    }
   ],
   "source": [
    "EmissionCO2_without_ESS"
   ]
  },
  {
   "cell_type": "markdown",
   "metadata": {},
   "source": [
    "## C) Consomation total d'Energie"
   ]
  },
  {
   "cell_type": "markdown",
   "metadata": {},
   "source": [
    "### C-1) Consomation total d'Energie en tenant compte du Energy Star Score"
   ]
  },
  {
   "cell_type": "code",
   "execution_count": 49,
   "metadata": {},
   "outputs": [],
   "source": [
    "## X_train y_train pour le dataframe avec EnergyStar Score\n",
    "X_with_ESS =  df_encoded_with_ESS.drop(columns=['TotalGHGEmissions','SiteEnergyUse(kBtu)'])\n",
    "y_with_ESS = df_encoded_with_ESS['SiteEnergyUse(kBtu)']\n",
    "\n",
    "## diviser X en X_train et X_test, et y en y_train et y_test\n",
    "X_train_ESS, X_test_ESS , y_train_ESS, y_test_ESS = train_test_split(X_with_ESS, y_with_ESS, test_size=0.3, random_state=41)\n"
   ]
  },
  {
   "cell_type": "code",
   "execution_count": 50,
   "metadata": {},
   "outputs": [
    {
     "name": "stdout",
     "output_type": "stream",
     "text": [
      "RMSE = 1.219 et R2 = -0.105%\n"
     ]
    }
   ],
   "source": [
    "## dummy regressor\n",
    "start_time = time.time()\n",
    "DR.fit(X_train_ESS, y_train_ESS)\n",
    "y_pred_ESS = DR.predict(X_test_ESS)\n",
    "RMSE = np.sqrt(metrics.mean_squared_error(y_test_ESS, y_pred_ESS))\n",
    "R2 = metrics.r2_score(y_test_ESS, y_pred_ESS)\n",
    "\n",
    "print(\"RMSE = {} et R2 = {}%\".format(np.round(RMSE,3),np.round(R2*100,3))) "
   ]
  },
  {
   "cell_type": "code",
   "execution_count": 51,
   "metadata": {},
   "outputs": [
    {
     "name": "stdout",
     "output_type": "stream",
     "text": [
      "Le score du cross validation: 0.6562951295727354\n",
      "RMSE = 0.818 et R2 = 54.987%\n",
      "\n",
      "Time = 0.1374 seconds \n"
     ]
    }
   ],
   "source": [
    "## Linear regression\n",
    "start_time = time.time()\n",
    "\n",
    "print(\"Le score du cross validation: {}\".format(cross_val_score(pipe_SL, X_train_ESS, y_train_ESS, cv=10).mean()))\n",
    "pipe_SL.fit(X_train_ESS, y_train_ESS)\n",
    "y_pred_ESS = pipe_SL.predict(X_test_ESS)\n",
    "RMSE = np.sqrt(metrics.mean_squared_error(y_test_ESS, y_pred_ESS))\n",
    "R2 = metrics.r2_score(y_test_ESS, y_pred_ESS)\n",
    "\n",
    "print(\"RMSE = {} et R2 = {}%\".format(np.round(RMSE,3),np.round(R2*100,3))) \n",
    "\n",
    "print(\"\\nTime = {} seconds \".format(np.round(time.time() - start_time,4))) \n",
    "Energy_L = [RMSE, 100*R2,np.round(time.time() - start_time,4)] ## liste[RMSE, R2%, temps]"
   ]
  },
  {
   "cell_type": "code",
   "execution_count": 52,
   "metadata": {},
   "outputs": [
    {
     "name": "stdout",
     "output_type": "stream",
     "text": [
      "Best Parameters: \n",
      "{'rf__max_depth': 100, 'rf__max_features': 'auto', 'rf__n_estimators': 1000}\n",
      "\n",
      "RMSE = 0.533 et R2 = 80.892%\n",
      "\n",
      "Time = 2.0247333333333333 minutes \n"
     ]
    }
   ],
   "source": [
    "## RandomForest\n",
    "start_time = time.time()\n",
    "\n",
    "Grid_RF.fit(X_train_ESS,y_train_ESS)\n",
    "print(\"Best Parameters: \\n{}\\n\".format(Grid_RF.best_params_))\n",
    "y_pred_ESS = Grid_RF.predict(X_test_ESS)\n",
    "RMSE = np.sqrt(metrics.mean_squared_error(y_test_ESS, y_pred_ESS))\n",
    "R2 = metrics.r2_score(y_test_ESS, y_pred_ESS)\n",
    "\n",
    "print(\"RMSE = {} et R2 = {}%\".format(np.round(RMSE,3),np.round(R2*100,3))) \n",
    "\n",
    "print(\"\\nTime = {} minutes \".format(np.round(time.time() - start_time,4)/60.)) \n",
    "Energy_RF = [RMSE, 100*R2, np.round(time.time() - start_time,4)/60.] ## liste[RMSE, R2%, temps]"
   ]
  },
  {
   "cell_type": "code",
   "execution_count": 53,
   "metadata": {},
   "outputs": [
    {
     "name": "stdout",
     "output_type": "stream",
     "text": [
      "Best Parameters: \n",
      "{'svr__C': 100, 'svr__epsilon': 0.005, 'svr__gamma': 0.005}\n",
      "\n",
      "RMSE = 0.636 et R2 = 72.743%\n",
      "\n",
      "Time = 2.75447 minutes \n"
     ]
    }
   ],
   "source": [
    "start_time = time.time()\n",
    "\n",
    "Grid_SVR.fit(X_train_ESS,y_train_ESS)\n",
    "print(\"Best Parameters: \\n{}\\n\".format(Grid_SVR.best_params_))\n",
    "y_pred_ESS = Grid_SVR.predict(X_test_ESS)\n",
    "RMSE = np.sqrt(metrics.mean_squared_error(y_test_ESS, y_pred_ESS))\n",
    "R2 = metrics.r2_score(y_test_ESS, y_pred_ESS)\n",
    "\n",
    "print(\"RMSE = {} et R2 = {}%\".format(np.round(RMSE,3),np.round(R2*100,3))) \n",
    "\n",
    "print(\"\\nTime = {} minutes \".format(np.round(time.time() - start_time,4)/60.)) \n",
    "Energy_SVR = [RMSE, 100*R2, np.round(time.time() - start_time,4)/60.] ## liste[RMSE, R2%, temps]"
   ]
  },
  {
   "cell_type": "code",
   "execution_count": 54,
   "metadata": {},
   "outputs": [
    {
     "name": "stdout",
     "output_type": "stream",
     "text": [
      "Best Parameters: \n",
      "{'xgbr__learning_rate': 0.03, 'xgbr__max_depth': 100, 'xgbr__n_estimators': 1000}\n",
      "\n",
      "RMSE = 0.561 et R2 = 78.786%\n",
      "\n",
      "Time = 1.4440633333333333 minutes \n"
     ]
    },
    {
     "name": "stderr",
     "output_type": "stream",
     "text": [
      "C:\\Users\\Rouba\\anaconda3\\lib\\site-packages\\xgboost\\data.py:112: UserWarning: Use subset (sliced data) of np.ndarray is not recommended because it will generate extra copies and increase memory consumption\n",
      "  warnings.warn(\n"
     ]
    }
   ],
   "source": [
    "## XGBoost\n",
    "start_time = time.time()\n",
    "X_train_ESS = np.ascontiguousarray(X_train_ESS)\n",
    "y_train_ESS = np.ascontiguousarray(y_train_ESS)\n",
    "\n",
    "Grid_XGB.fit(X_train_ESS, y_train_ESS)\n",
    "print(\"Best Parameters: \\n{}\\n\".format(Grid_XGB.best_params_))\n",
    "y_pred_ESS = Grid_XGB.predict(X_test_ESS)\n",
    "RMSE = np.sqrt(metrics.mean_squared_error(y_test_ESS, y_pred_ESS))\n",
    "R2 = metrics.r2_score(y_test_ESS, y_pred_ESS)\n",
    "\n",
    "print(\"RMSE = {} et R2 = {}%\".format(np.round(RMSE,3),np.round(R2*100,3))) \n",
    "\n",
    "print(\"\\nTime = {} minutes \".format(np.round(time.time() - start_time,4)/60.)) \n",
    "Energy_XGB = [RMSE, 100*R2, np.round(time.time() - start_time,4)/60.] ## liste[RMSE, R2%, temps]"
   ]
  },
  {
   "cell_type": "code",
   "execution_count": 55,
   "metadata": {},
   "outputs": [
    {
     "name": "stdout",
     "output_type": "stream",
     "text": [
      "reg:squarederror\n"
     ]
    }
   ],
   "source": [
    "print(xgbr.objective)"
   ]
  },
  {
   "cell_type": "markdown",
   "metadata": {},
   "source": [
    "### C-2)  Consomation total d'Energie sans tenant compte du Energy Star Score"
   ]
  },
  {
   "cell_type": "code",
   "execution_count": 56,
   "metadata": {},
   "outputs": [],
   "source": [
    "## X_train y_train pour le dataframe sans EnergyStar Score\n",
    "X =  df_encoded_without_ESS.drop(columns=['TotalGHGEmissions','SiteEnergyUse(kBtu)'])\n",
    "y = df_encoded_without_ESS['SiteEnergyUse(kBtu)']\n",
    "\n",
    "## diviser X en X_train et X_test, et y en y_train et y_test\n",
    "X_train, X_test , y_train, y_test = train_test_split(X, y, test_size=0.3, random_state=40)"
   ]
  },
  {
   "cell_type": "code",
   "execution_count": 57,
   "metadata": {},
   "outputs": [
    {
     "name": "stdout",
     "output_type": "stream",
     "text": [
      "RMSE = 1.257 et R2 = -0.016%\n"
     ]
    }
   ],
   "source": [
    "## dummy regressor\n",
    "start_time = time.time()\n",
    "DR.fit(X_train, y_train)\n",
    "y_pred = DR.predict(X_test)\n",
    "RMSE = np.sqrt(metrics.mean_squared_error(y_test, y_pred))\n",
    "R2 = metrics.r2_score(y_test, y_pred)\n",
    "\n",
    "print(\"RMSE = {} et R2 = {}%\".format(np.round(RMSE,3),np.round(R2*100,3))) "
   ]
  },
  {
   "cell_type": "code",
   "execution_count": 58,
   "metadata": {},
   "outputs": [
    {
     "name": "stdout",
     "output_type": "stream",
     "text": [
      "Le score du cross validation: 0.6328870739320414\n",
      "RMSE = 0.99 et R2 = 37.967%\n",
      "\n",
      "Time = 0.1395 seconds \n"
     ]
    }
   ],
   "source": [
    "start_time = time.time()\n",
    "\n",
    "print(\"Le score du cross validation: {}\".format(cross_val_score(pipe_SL, X_train, y_train, cv=10).mean()))\n",
    "pipe_SL.fit(X_train, y_train)\n",
    "y_pred = pipe_SL.predict(X_test)\n",
    "RMSE = np.sqrt(metrics.mean_squared_error(y_test, y_pred))\n",
    "R2 = metrics.r2_score(y_test, y_pred)\n",
    "\n",
    "print(\"RMSE = {} et R2 = {}%\".format(np.round(RMSE,3),np.round(R2*100,3))) \n",
    "\n",
    "print(\"\\nTime = {} seconds \".format(np.round(time.time() - start_time,4))) \n",
    "Energy_L_withoutESS = [RMSE, 100*R2,np.round(time.time() - start_time,4)] ## liste[RMSE, R2%, temps]"
   ]
  },
  {
   "cell_type": "code",
   "execution_count": 59,
   "metadata": {},
   "outputs": [
    {
     "name": "stdout",
     "output_type": "stream",
     "text": [
      "Best Parameters: \n",
      "{'rf__max_depth': 200, 'rf__max_features': 'auto', 'rf__n_estimators': 150}\n",
      "\n",
      "RMSE = 0.551 et R2 = 80.744%\n",
      "\n",
      "Time = 1.9595483333333334 minutes \n"
     ]
    }
   ],
   "source": [
    "## RandomForest\n",
    "start_time = time.time()\n",
    "\n",
    "Grid_RF.fit(X_train, y_train)\n",
    "print(\"Best Parameters: \\n{}\\n\".format(Grid_RF.best_params_))\n",
    "y_pred = Grid_RF.predict(X_test)\n",
    "RMSE = np.sqrt(metrics.mean_squared_error(y_test, y_pred))\n",
    "R2 = metrics.r2_score(y_test, y_pred)\n",
    "\n",
    "print(\"RMSE = {} et R2 = {}%\".format(np.round(RMSE,3),np.round(R2*100,3))) \n",
    "\n",
    "print(\"\\nTime = {} minutes \".format(np.round(time.time() - start_time,4)/60.)) \n",
    "Energy_RF_withoutESS = [RMSE, 100*R2, np.round(time.time() - start_time,4)/60.] ## liste[RMSE, R2%, temps]"
   ]
  },
  {
   "cell_type": "code",
   "execution_count": 60,
   "metadata": {},
   "outputs": [
    {
     "name": "stdout",
     "output_type": "stream",
     "text": [
      "Best Parameters: \n",
      "{'svr__C': 1, 'svr__epsilon': 0.005, 'svr__gamma': 0.1}\n",
      "\n",
      "RMSE = 0.624 et R2 = 75.368%\n",
      "\n",
      "Time = 1.8037316666666667 minutes \n"
     ]
    }
   ],
   "source": [
    "start_time = time.time()\n",
    "\n",
    "Grid_SVR.fit(X_train, y_train)\n",
    "print(\"Best Parameters: \\n{}\\n\".format(Grid_SVR.best_params_))\n",
    "y_pred = Grid_SVR.predict(X_test)\n",
    "RMSE = np.sqrt(metrics.mean_squared_error(y_test, y_pred))\n",
    "R2 = metrics.r2_score(y_test, y_pred)\n",
    "\n",
    "print(\"RMSE = {} et R2 = {}%\".format(np.round(RMSE,3),np.round(R2*100,3))) \n",
    "\n",
    "print(\"\\nTime = {} minutes \".format(np.round(time.time() - start_time,4)/60.)) \n",
    "Energy_SVR_withoutESS = [RMSE, 100*R2, np.round(time.time() - start_time,4)/60.] ## liste[RMSE, R2%, temps]"
   ]
  },
  {
   "cell_type": "code",
   "execution_count": 61,
   "metadata": {},
   "outputs": [
    {
     "name": "stdout",
     "output_type": "stream",
     "text": [
      "Best Parameters: \n",
      "{'xgbr__learning_rate': 0.03, 'xgbr__max_depth': 100, 'xgbr__n_estimators': 1000}\n",
      "\n",
      "RMSE = 0.551 et R2 = 80.792%\n",
      "\n",
      "Time = 1.47345 minutes \n"
     ]
    },
    {
     "name": "stderr",
     "output_type": "stream",
     "text": [
      "C:\\Users\\Rouba\\anaconda3\\lib\\site-packages\\xgboost\\data.py:112: UserWarning: Use subset (sliced data) of np.ndarray is not recommended because it will generate extra copies and increase memory consumption\n",
      "  warnings.warn(\n"
     ]
    }
   ],
   "source": [
    "## XGBoost\n",
    "start_time = time.time()\n",
    "\n",
    "X_train = np.ascontiguousarray(X_train)\n",
    "y_train = np.ascontiguousarray(y_train)\n",
    "\n",
    "Grid_XGB.fit(X_train, y_train)\n",
    "print(\"Best Parameters: \\n{}\\n\".format(Grid_XGB.best_params_))\n",
    "y_pred = Grid_XGB.predict(X_test)\n",
    "RMSE = np.sqrt(metrics.mean_squared_error(y_test, y_pred))\n",
    "R2 = metrics.r2_score(y_test, y_pred)\n",
    "\n",
    "print(\"RMSE = {} et R2 = {}%\".format(np.round(RMSE,3),np.round(R2*100,3))) \n",
    "\n",
    "print(\"\\nTime = {} minutes \".format(np.round(time.time() - start_time,4)/60.)) \n",
    "Energy_XGB_withoutESS = [RMSE, 100*R2, np.round(time.time() - start_time,4)/60.] ## liste[RMSE, R2%, temps]"
   ]
  },
  {
   "cell_type": "code",
   "execution_count": 62,
   "metadata": {},
   "outputs": [
    {
     "name": "stdout",
     "output_type": "stream",
     "text": [
      "reg:squarederror\n"
     ]
    }
   ],
   "source": [
    "print(xgbr.objective)"
   ]
  },
  {
   "cell_type": "markdown",
   "metadata": {},
   "source": [
    "### C-3) Résumé en chiffres du consomation total d'Energie"
   ]
  },
  {
   "cell_type": "code",
   "execution_count": 63,
   "metadata": {},
   "outputs": [],
   "source": [
    "Energy_with_ESS = pd.DataFrame(data=[Energy_L, Energy_RF, Energy_SVR, Energy_XGB],\n",
    "             columns=['RMSE', 'R2(%)', 'Duration(s)'],\n",
    "             index=['Linear regression', 'RandomForest', 'SVR', 'XGB'])\n",
    "\n",
    "Energy_without_ESS = pd.DataFrame(data=[Energy_L_withoutESS, Energy_RF_withoutESS, Energy_SVR_withoutESS, Energy_XGB_withoutESS],\n",
    "             columns=['RMSE', 'R2(%)', 'Duration(s)'],\n",
    "             index=['Linear regresion', 'RandomForest', 'SVR', 'XGB'])"
   ]
  },
  {
   "cell_type": "code",
   "execution_count": 64,
   "metadata": {},
   "outputs": [
    {
     "data": {
      "text/html": [
       "<div>\n",
       "<style scoped>\n",
       "    .dataframe tbody tr th:only-of-type {\n",
       "        vertical-align: middle;\n",
       "    }\n",
       "\n",
       "    .dataframe tbody tr th {\n",
       "        vertical-align: top;\n",
       "    }\n",
       "\n",
       "    .dataframe thead th {\n",
       "        text-align: right;\n",
       "    }\n",
       "</style>\n",
       "<table border=\"1\" class=\"dataframe\">\n",
       "  <thead>\n",
       "    <tr style=\"text-align: right;\">\n",
       "      <th></th>\n",
       "      <th>RMSE</th>\n",
       "      <th>R2(%)</th>\n",
       "      <th>Duration(s)</th>\n",
       "    </tr>\n",
       "  </thead>\n",
       "  <tbody>\n",
       "    <tr>\n",
       "      <th>Linear regression</th>\n",
       "      <td>0.817636</td>\n",
       "      <td>54.987414</td>\n",
       "      <td>0.137400</td>\n",
       "    </tr>\n",
       "    <tr>\n",
       "      <th>RandomForest</th>\n",
       "      <td>0.532727</td>\n",
       "      <td>80.891599</td>\n",
       "      <td>2.024733</td>\n",
       "    </tr>\n",
       "    <tr>\n",
       "      <th>SVR</th>\n",
       "      <td>0.636259</td>\n",
       "      <td>72.742733</td>\n",
       "      <td>2.754470</td>\n",
       "    </tr>\n",
       "    <tr>\n",
       "      <th>XGB</th>\n",
       "      <td>0.561314</td>\n",
       "      <td>78.785820</td>\n",
       "      <td>1.444063</td>\n",
       "    </tr>\n",
       "  </tbody>\n",
       "</table>\n",
       "</div>"
      ],
      "text/plain": [
       "                       RMSE      R2(%)  Duration(s)\n",
       "Linear regression  0.817636  54.987414     0.137400\n",
       "RandomForest       0.532727  80.891599     2.024733\n",
       "SVR                0.636259  72.742733     2.754470\n",
       "XGB                0.561314  78.785820     1.444063"
      ]
     },
     "execution_count": 64,
     "metadata": {},
     "output_type": "execute_result"
    }
   ],
   "source": [
    "Energy_with_ESS"
   ]
  },
  {
   "cell_type": "code",
   "execution_count": 65,
   "metadata": {},
   "outputs": [
    {
     "data": {
      "text/html": [
       "<div>\n",
       "<style scoped>\n",
       "    .dataframe tbody tr th:only-of-type {\n",
       "        vertical-align: middle;\n",
       "    }\n",
       "\n",
       "    .dataframe tbody tr th {\n",
       "        vertical-align: top;\n",
       "    }\n",
       "\n",
       "    .dataframe thead th {\n",
       "        text-align: right;\n",
       "    }\n",
       "</style>\n",
       "<table border=\"1\" class=\"dataframe\">\n",
       "  <thead>\n",
       "    <tr style=\"text-align: right;\">\n",
       "      <th></th>\n",
       "      <th>RMSE</th>\n",
       "      <th>R2(%)</th>\n",
       "      <th>Duration(s)</th>\n",
       "    </tr>\n",
       "  </thead>\n",
       "  <tbody>\n",
       "    <tr>\n",
       "      <th>Linear regresion</th>\n",
       "      <td>0.989733</td>\n",
       "      <td>37.966538</td>\n",
       "      <td>0.141200</td>\n",
       "    </tr>\n",
       "    <tr>\n",
       "      <th>RandomForest</th>\n",
       "      <td>0.551430</td>\n",
       "      <td>80.743802</td>\n",
       "      <td>1.959548</td>\n",
       "    </tr>\n",
       "    <tr>\n",
       "      <th>SVR</th>\n",
       "      <td>0.623670</td>\n",
       "      <td>75.367956</td>\n",
       "      <td>1.803732</td>\n",
       "    </tr>\n",
       "    <tr>\n",
       "      <th>XGB</th>\n",
       "      <td>0.550745</td>\n",
       "      <td>80.791571</td>\n",
       "      <td>1.473450</td>\n",
       "    </tr>\n",
       "  </tbody>\n",
       "</table>\n",
       "</div>"
      ],
      "text/plain": [
       "                      RMSE      R2(%)  Duration(s)\n",
       "Linear regresion  0.989733  37.966538     0.141200\n",
       "RandomForest      0.551430  80.743802     1.959548\n",
       "SVR               0.623670  75.367956     1.803732\n",
       "XGB               0.550745  80.791571     1.473450"
      ]
     },
     "execution_count": 65,
     "metadata": {},
     "output_type": "execute_result"
    }
   ],
   "source": [
    "Energy_without_ESS"
   ]
  },
  {
   "cell_type": "markdown",
   "metadata": {},
   "source": [
    "## D) Comparaison "
   ]
  },
  {
   "cell_type": "code",
   "execution_count": 66,
   "metadata": {},
   "outputs": [
    {
     "name": "stderr",
     "output_type": "stream",
     "text": [
      "C:\\Users\\Rouba\\anaconda3\\lib\\site-packages\\IPython\\core\\interactiveshell.py:2866: PerformanceWarning: indexing past lexsort depth may impact performance.\n",
      "  result = self._run_cell(\n"
     ]
    }
   ],
   "source": [
    "label1 = np.array([\"CO2\",\"Energy\"])\n",
    "label2 = np.array([\"RMSE\",\"R2(%)\",\"Duration(s)\"])\n",
    "label3 = np.array([\"ESS\",\"without ESS\"])\n",
    "cols = pd.MultiIndex.from_product([label1, label2, label3])\n",
    "final = pd.DataFrame(columns = Energy_with_ESS.index,index=cols)\n",
    "liste = ['RMSE','R2(%)','Duration(s)']\n",
    "for i in liste:\n",
    "    final.loc['CO2',i] = EmissionCO2_with_ESS[i], EmissionCO2_without_ESS[i]\n",
    "    final.loc['Energy',i] = Energy_with_ESS[i], Energy_without_ESS[i]\n"
   ]
  },
  {
   "cell_type": "code",
   "execution_count": 67,
   "metadata": {},
   "outputs": [
    {
     "data": {
      "text/html": [
       "<style type=\"text/css\">\n",
       "table.dataframe td, table.dataframe th{\n",
       "    border: 1px black solid !important;\n",
       "    color: black solide !important;\n",
       "}\n",
       "</style>\n"
      ],
      "text/plain": [
       "<IPython.core.display.HTML object>"
      ]
     },
     "metadata": {},
     "output_type": "display_data"
    }
   ],
   "source": [
    "%%HTML\n",
    "<style type=\"text/css\">\n",
    "table.dataframe td, table.dataframe th{\n",
    "    border: 1px black solid !important;\n",
    "    color: black solide !important;\n",
    "}\n",
    "</style>"
   ]
  },
  {
   "cell_type": "code",
   "execution_count": 68,
   "metadata": {},
   "outputs": [
    {
     "data": {
      "text/html": [
       "<div>\n",
       "<style scoped>\n",
       "    .dataframe tbody tr th:only-of-type {\n",
       "        vertical-align: middle;\n",
       "    }\n",
       "\n",
       "    .dataframe tbody tr th {\n",
       "        vertical-align: top;\n",
       "    }\n",
       "\n",
       "    .dataframe thead th {\n",
       "        text-align: right;\n",
       "    }\n",
       "</style>\n",
       "<table border=\"1\" class=\"dataframe\">\n",
       "  <thead>\n",
       "    <tr style=\"text-align: right;\">\n",
       "      <th></th>\n",
       "      <th></th>\n",
       "      <th></th>\n",
       "      <th>Linear regression</th>\n",
       "      <th>RandomForest</th>\n",
       "      <th>SVR</th>\n",
       "      <th>XGB</th>\n",
       "    </tr>\n",
       "  </thead>\n",
       "  <tbody>\n",
       "    <tr>\n",
       "      <th rowspan=\"6\" valign=\"top\">CO2</th>\n",
       "      <th rowspan=\"2\" valign=\"top\">RMSE</th>\n",
       "      <th>ESS</th>\n",
       "      <td>0.96935</td>\n",
       "      <td>0.266196</td>\n",
       "      <td>0.541157</td>\n",
       "      <td>0.251717</td>\n",
       "    </tr>\n",
       "    <tr>\n",
       "      <th>without ESS</th>\n",
       "      <td>0.979858</td>\n",
       "      <td>0.263301</td>\n",
       "      <td>0.564418</td>\n",
       "      <td>0.251312</td>\n",
       "    </tr>\n",
       "    <tr>\n",
       "      <th rowspan=\"2\" valign=\"top\">R2(%)</th>\n",
       "      <th>ESS</th>\n",
       "      <td>51.1119</td>\n",
       "      <td>96.3132</td>\n",
       "      <td>84.7634</td>\n",
       "      <td>96.7034</td>\n",
       "    </tr>\n",
       "    <tr>\n",
       "      <th>without ESS</th>\n",
       "      <td>50.0462</td>\n",
       "      <td>96.393</td>\n",
       "      <td>83.4254</td>\n",
       "      <td>96.714</td>\n",
       "    </tr>\n",
       "    <tr>\n",
       "      <th rowspan=\"2\" valign=\"top\">Duration(s)</th>\n",
       "      <th>ESS</th>\n",
       "      <td>0.1042</td>\n",
       "      <td>4.92636</td>\n",
       "      <td>2.8329</td>\n",
       "      <td>1.39742</td>\n",
       "    </tr>\n",
       "    <tr>\n",
       "      <th>without ESS</th>\n",
       "      <td>0.1369</td>\n",
       "      <td>1.8752</td>\n",
       "      <td>1.14472</td>\n",
       "      <td>1.4178</td>\n",
       "    </tr>\n",
       "    <tr>\n",
       "      <th rowspan=\"6\" valign=\"top\">Energy</th>\n",
       "      <th rowspan=\"2\" valign=\"top\">RMSE</th>\n",
       "      <th>ESS</th>\n",
       "      <td>0.817636</td>\n",
       "      <td>0.532727</td>\n",
       "      <td>0.636259</td>\n",
       "      <td>0.561314</td>\n",
       "    </tr>\n",
       "    <tr>\n",
       "      <th>without ESS</th>\n",
       "      <td>0.989733</td>\n",
       "      <td>0.55143</td>\n",
       "      <td>0.62367</td>\n",
       "      <td>0.550745</td>\n",
       "    </tr>\n",
       "    <tr>\n",
       "      <th rowspan=\"2\" valign=\"top\">R2(%)</th>\n",
       "      <th>ESS</th>\n",
       "      <td>54.9874</td>\n",
       "      <td>80.8916</td>\n",
       "      <td>72.7427</td>\n",
       "      <td>78.7858</td>\n",
       "    </tr>\n",
       "    <tr>\n",
       "      <th>without ESS</th>\n",
       "      <td>37.9665</td>\n",
       "      <td>80.7438</td>\n",
       "      <td>75.368</td>\n",
       "      <td>80.7916</td>\n",
       "    </tr>\n",
       "    <tr>\n",
       "      <th rowspan=\"2\" valign=\"top\">Duration(s)</th>\n",
       "      <th>ESS</th>\n",
       "      <td>0.1374</td>\n",
       "      <td>2.02473</td>\n",
       "      <td>2.75447</td>\n",
       "      <td>1.44406</td>\n",
       "    </tr>\n",
       "    <tr>\n",
       "      <th>without ESS</th>\n",
       "      <td>0.1412</td>\n",
       "      <td>1.95955</td>\n",
       "      <td>1.80373</td>\n",
       "      <td>1.47345</td>\n",
       "    </tr>\n",
       "  </tbody>\n",
       "</table>\n",
       "</div>"
      ],
      "text/plain": [
       "                               Linear regression RandomForest       SVR  \\\n",
       "CO2    RMSE        ESS                   0.96935     0.266196  0.541157   \n",
       "                   without ESS          0.979858     0.263301  0.564418   \n",
       "       R2(%)       ESS                   51.1119      96.3132   84.7634   \n",
       "                   without ESS           50.0462       96.393   83.4254   \n",
       "       Duration(s) ESS                    0.1042      4.92636    2.8329   \n",
       "                   without ESS            0.1369       1.8752   1.14472   \n",
       "Energy RMSE        ESS                  0.817636     0.532727  0.636259   \n",
       "                   without ESS          0.989733      0.55143   0.62367   \n",
       "       R2(%)       ESS                   54.9874      80.8916   72.7427   \n",
       "                   without ESS           37.9665      80.7438    75.368   \n",
       "       Duration(s) ESS                    0.1374      2.02473   2.75447   \n",
       "                   without ESS            0.1412      1.95955   1.80373   \n",
       "\n",
       "                                     XGB  \n",
       "CO2    RMSE        ESS          0.251717  \n",
       "                   without ESS  0.251312  \n",
       "       R2(%)       ESS           96.7034  \n",
       "                   without ESS    96.714  \n",
       "       Duration(s) ESS           1.39742  \n",
       "                   without ESS    1.4178  \n",
       "Energy RMSE        ESS          0.561314  \n",
       "                   without ESS  0.550745  \n",
       "       R2(%)       ESS           78.7858  \n",
       "                   without ESS   80.7916  \n",
       "       Duration(s) ESS           1.44406  \n",
       "                   without ESS   1.47345  "
      ]
     },
     "execution_count": 68,
     "metadata": {},
     "output_type": "execute_result"
    }
   ],
   "source": [
    "final"
   ]
  },
  {
   "cell_type": "code",
   "execution_count": 69,
   "metadata": {},
   "outputs": [
    {
     "data": {
      "image/png": "[encoded data removed]",
      "text/plain": [
       "<Figure size 1008x432 with 2 Axes>"
      ]
     },
     "metadata": {
      "needs_background": "light"
     },
     "output_type": "display_data"
    }
   ],
   "source": [
    "### Comparaison CO2 emission with and without ESS\n",
    "pl.figure(figsize=(14,6))\n",
    "ax1 = pl.subplot(111)\n",
    "ax1.margins(0.02, 0.1) \n",
    "ax1.set_ylabel('R2(%)')\n",
    "x1, x2 = np.arange(0,8,2), np.arange(1,8, 2)\n",
    "\n",
    "labels = ['Linear regression ESS','Linear regression without ESS', 'RandomForest ESS','RandomForest without ESS','SVR ESS','SVR without ESS','XGB ESS','XBG without ESS']\n",
    "pl.xticks(np.arange(0,10,1),labels,rotation=45,ha='right')\n",
    "ax2 = ax1.twinx()\n",
    "ax2.set_ylabel('RMSE')\n",
    "\n",
    "ax1.bar(x1, final.loc['CO2','R2(%)','ESS'], width = 0.4, alpha= 0.9, color ='darkslateblue', align = 'center')\n",
    "ax2.bar(x1, final.loc['CO2','RMSE','ESS'], width = 0.4, alpha = 0.5, color='r', align = 'edge')\n",
    "ax1.bar(x2, final.loc['CO2','R2(%)','without ESS'], width = 0.4, alpha= 0.9, color ='darkslateblue', align = 'center')\n",
    "ax2.bar(x2, final.loc['CO2','RMSE','without ESS'], width = 0.4, alpha = 0.5, color='r', align = 'edge')\n",
    "ax1.set_ylim(0,120)\n",
    "ax2.set_ylim(0,1.2)\n",
    "\n",
    "ax1.legend(['R2(%)'], loc = 'upper left')\n",
    "ax2.legend(['RMSE'], loc = 'upper right')\n",
    "pl.title('Emission du CO2', pad=20)\n",
    "\n",
    "total_LR = len(final.loc['CO2','R2(%)','ESS'])\n",
    "for p in np.arange(0,len(final.loc['CO2','R2(%)','ESS'])):\n",
    "    ax1.annotate(str(np.round(final.loc['CO2','R2(%)','ESS'][p],2)), xy=(x1[p],final.loc['CO2','R2(%)','ESS'][p]), ha='center', va='bottom')\n",
    "    ax2.annotate(str(np.round(final.loc['CO2','RMSE','ESS'][p],2)), xy=(x1[p],final.loc['CO2','RMSE','ESS'][p]), ha='left', va='bottom')\n",
    "    ax1.annotate(str(np.round(final.loc['CO2','R2(%)','without ESS'][p],2)), xy=(x2[p],final.loc['CO2','R2(%)','without ESS'][p]), ha='center', va='bottom')\n",
    "    ax2.annotate(str(np.round(final.loc['CO2','RMSE','without ESS'][p],2)), xy=(x2[p],final.loc['CO2','RMSE','without ESS'][p]), ha='left', va='bottom')\n",
    "    \n",
    "pl.show()"
   ]
  },
  {
   "cell_type": "markdown",
   "metadata": {},
   "source": [
    "<font color='darkblue'><font size=\"3\">\n",
    "Ce graphique représente les performances des différents modèles de prédiction des émissions de CO2.\n",
    "Sur l'axe des x, nous trouvons les différents modèles (avec et sans ESS), l'axe des y à gauche représente les valeurs R2 en % présentées par des barres violettes, et à droite nous avons le RMSE présenté par des barres rose clair.\n",
    "    \n",
    "Commençons par la différence entre \"avec\" et \"sans\" ESS, il n'y a pas une grande différence entre les valeurs du même modèle (une légère différence).    \n",
    "\n",
    "Maintenant pour l'évaluation des différents modèles, nous recherchons un R2 maximal et un RMSE minimal.\n",
    "    \n",
    "La régression linéaire n'est pas un modèle performant.\n",
    "</font></font>"
   ]
  },
  {
   "cell_type": "code",
   "execution_count": 70,
   "metadata": {
    "scrolled": false
   },
   "outputs": [
    {
     "data": {
      "image/png": "[encoded data removed]",
      "text/plain": [
       "<Figure size 1008x432 with 2 Axes>"
      ]
     },
     "metadata": {
      "needs_background": "light"
     },
     "output_type": "display_data"
    }
   ],
   "source": [
    "### Comparaison CO2 emission with and without ESS\n",
    "pl.figure(figsize=(14,6))\n",
    "ax1 = pl.subplot(111)\n",
    "ax1.margins(0.02, 0.1) \n",
    "ax1.set_ylabel('R2(%)')\n",
    "x1, x2 = np.arange(0,8,2), np.arange(1,8, 2)\n",
    "\n",
    "labels = ['Linear regression ESS','Linear regression without ESS', 'RandomForest ESS','RandomForest without ESS','SVR ESS','SVR without ESS','XGB ESS','XBG without ESS']\n",
    "pl.xticks(np.arange(0,10,1),labels,rotation=45,ha='right')\n",
    "ax2 = ax1.twinx()\n",
    "ax2.set_ylabel('RMSE')\n",
    "\n",
    "ax1.bar(x1, final.loc['Energy','R2(%)','ESS'], width = 0.4, alpha= 0.9, color ='darkslategrey', align = 'center')\n",
    "ax2.bar(x1, final.loc['Energy','RMSE','ESS'], width = 0.4, alpha = 0.5, color='lawngreen', align = 'edge')\n",
    "ax1.bar(x2, final.loc['Energy','R2(%)','without ESS'], width = 0.4, alpha= 0.9, color ='darkslategrey', align = 'center')\n",
    "ax2.bar(x2, final.loc['Energy','RMSE','without ESS'], width = 0.4, alpha = 0.5, color='lawngreen', align = 'edge')\n",
    "ax1.set_ylim(0,120)\n",
    "ax2.set_ylim(0,1.2)\n",
    "\n",
    "ax1.legend(['R2(%)'], loc = 'upper left')\n",
    "ax2.legend(['RMSE'], loc = 'upper right')\n",
    "pl.title('Consomation Total Energy', pad=20)\n",
    "\n",
    "total_LR = len(final.loc['Energy','R2(%)','ESS'])\n",
    "for p in np.arange(0,len(final.loc['Energy','R2(%)','ESS'])):\n",
    "    ax1.annotate(str(np.round(final.loc['Energy','R2(%)','ESS'][p],2)), xy=(x1[p],final.loc['Energy','R2(%)','ESS'][p]), ha='center', va='bottom')\n",
    "    ax2.annotate(str(np.round(final.loc['Energy','RMSE','ESS'][p],2)), xy=(x1[p],final.loc['Energy','RMSE','ESS'][p]), ha='left', va='bottom')\n",
    "    ax1.annotate(str(np.round(final.loc['Energy','R2(%)','without ESS'][p],2)), xy=(x2[p],final.loc['Energy','R2(%)','without ESS'][p]), ha='center', va='bottom')\n",
    "    ax2.annotate(str(np.round(final.loc['Energy','RMSE','without ESS'][p],2)), xy=(x2[p],final.loc['Energy','RMSE','without ESS'][p]), ha='left', va='bottom')\n",
    "    \n",
    "pl.show()"
   ]
  },
  {
   "cell_type": "markdown",
   "metadata": {},
   "source": [
    "<font color='darkblue'><font size=\"3\">\n",
    "Ce graphique représente les performances des différents modèles de prédiction de la consommation d'énergie total.\n",
    "Sur l'axe des x, nous trouvons les différents modèles (avec et sans ESS), l'axe des y à gauche représente les valeurs R2 en % présentées par des barres vert foncé, et à droite nous avons le RMSE présenté par des barres vert clair.\n",
    "    \n",
    "Commençons par la différence entre \"avec\" et \"sans\" ESS, on trouve une différence remarquable surtout dans le cas du modèle du linear regression.    \n",
    "\n",
    "Maintenant pour l'évaluation des différents modèles, nous recherchons un R2 maximal et un RMSE minimal.\n",
    "La régression linéaire n'est pas un modèle performant.\n",
    "</font></font>"
   ]
  },
  {
   "cell_type": "markdown",
   "metadata": {},
   "source": [
    "## E) Choix du modèle et l'importance du score Energy Star"
   ]
  },
  {
   "cell_type": "markdown",
   "metadata": {},
   "source": [
    "<font color='darkblue'><font size=\"3\">\n",
    "En comparant les deux graphiques précédents, nous pouvons facilement remarquer que tous les algorithmes maintiennent de bons résultats entre l'inclusion et l'exclusion de l'ESS (avec une légère différence), à l'exception de la régression linéaire dans la consommation d'energie qui montre une différence remarquable.\n",
    "</font></font>"
   ]
  },
  {
   "cell_type": "markdown",
   "metadata": {},
   "source": [
    "<font color='darkblue'><font size=\"3\">\n",
    "Certains algorithmes ont des résultats similaires de R2 et RMSE.\\\n",
    "Dans l'émission de CO2 : RandomForest et XGBoost ont des valeurs très proches et le SVR a aussi de bons résultats.\\\n",
    "Dans la consommation d'energie : RandomForest, XGBoost et SVR ont des valeurs proches.\n",
    "    \n",
    "Notre dernier choix sera donc basé sur le temps de calcul de RandomForest, SVR et XGBoost.\n",
    "</font></font>"
   ]
  },
  {
   "cell_type": "code",
   "execution_count": 71,
   "metadata": {},
   "outputs": [
    {
     "data": {
      "image/png": "[encoded data removed]",
      "text/plain": [
       "<Figure size 720x576 with 1 Axes>"
      ]
     },
     "metadata": {
      "needs_background": "light"
     },
     "output_type": "display_data"
    }
   ],
   "source": [
    "pl.figure(figsize=(10,8))\n",
    "ax = pl.subplot(111)\n",
    "ax.margins(0.02, 0.1) \n",
    "ax.set_ylabel('temps en minutes')\n",
    "\n",
    "labels = {'RandomForest':'lightsalmon' ,'SVR': 'darkturquoise','XGB': 'darkmagenta'}\n",
    "pos = {'RandomForest':0 ,'SVR': 0.25,'XGB': 0.5}\n",
    "labels2 = {'Energy':1,'CO2':2}\n",
    "\n",
    "ticks = [[],[]]\n",
    "for i in labels2:\n",
    "    for j in pos : \n",
    "        ax.bar(labels2[i]+pos[j], final.loc[i,'Duration(s)','ESS'][j], color = labels[j], width = 0.34, alpha = 0.9, align = 'center')\n",
    "        ax.annotate(str(np.round(final.loc[i,'Duration(s)','ESS'][j],2)), xy=(labels2[i]+pos[j],final.loc[i,'Duration(s)','ESS'][j]), ha='center', va='bottom')\n",
    "        ticks[1].append(i+\"_\"+j), ticks[0].append(labels2[i]+pos[j])\n",
    "\n",
    "pl.xticks(ticks[0],ticks[1], rotation=45)\n",
    "\n",
    "pl.title('Durée du calcul', pad=20) \n",
    "pl.show()"
   ]
  },
  {
   "cell_type": "markdown",
   "metadata": {},
   "source": [
    "<font color='darkblue'><font size=\"3\">\n",
    "Nous remarquons que le temps de calcul du XGBoost, tant pour l'**émission de CO2** que pour la **consommation d'énergie**, est inférieur à celui des deux autres algorithmes. Donc le meilleur choix est le **XGBoost**.\n",
    "</font></font>"
   ]
  },
  {
   "cell_type": "markdown",
   "metadata": {},
   "source": [
    "## Consclusion & perspectives"
   ]
  },
  {
   "cell_type": "markdown",
   "metadata": {},
   "source": [
    "<font color='black'><font size=\"3\">\n",
    "* Nous avons testé plusieurs algorithmes pour prédire l'émission du CO2 et la consommation d'énergie avec et sans le score Energy Star.\n",
    "* Les algorithmes proposé maintiennent de bons résultats entre l'inclusion et l'exclusion de l'ESS (avec une légère différence).\n",
    "* Les algorithmes suggérés ont de bons résultats, pas de overfit ou underfit.\n",
    "* Les hyperparamètres de `GridhSearchCV` sont choisis à grande échelle. Ainsi, pour l'étape suivante, nous pouvons réduire cette échelle une fois que nous avons choisi la meilleure méthode de régression. \n",
    "</font></font>"
   ]
  },
  {
   "cell_type": "code",
   "execution_count": null,
   "metadata": {},
   "outputs": [],
   "source": []
  }
 ],
 "metadata": {
  "kernelspec": {
   "display_name": "Python 3",
   "language": "python",
   "name": "python3"
  },
  "language_info": {
   "codemirror_mode": {
    "name": "ipython",
    "version": 3
   },
   "file_extension": ".py",
   "mimetype": "text/x-python",
   "name": "python",
   "nbconvert_exporter": "python",
   "pygments_lexer": "ipython3",
   "version": "3.8.3"
  }
 },
 "nbformat": 4,
 "nbformat_minor": 4
}
